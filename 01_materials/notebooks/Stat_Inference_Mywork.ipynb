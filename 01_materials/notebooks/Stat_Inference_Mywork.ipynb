{
 "cells": [
  {
   "cell_type": "code",
   "execution_count": 4,
   "id": "a067093e",
   "metadata": {},
   "outputs": [],
   "source": [
    "import numpy as np\n",
    "import pandas as pd\n",
    "import matplotlib.pyplot as plt"
   ]
  },
  {
   "cell_type": "code",
   "execution_count": 7,
   "id": "ea26cc7c",
   "metadata": {},
   "outputs": [
    {
     "data": {
      "text/html": [
       "<div>\n",
       "<style scoped>\n",
       "    .dataframe tbody tr th:only-of-type {\n",
       "        vertical-align: middle;\n",
       "    }\n",
       "\n",
       "    .dataframe tbody tr th {\n",
       "        vertical-align: top;\n",
       "    }\n",
       "\n",
       "    .dataframe thead th {\n",
       "        text-align: right;\n",
       "    }\n",
       "</style>\n",
       "<table border=\"1\" class=\"dataframe\">\n",
       "  <thead>\n",
       "    <tr style=\"text-align: right;\">\n",
       "      <th></th>\n",
       "      <th>id</th>\n",
       "      <th>neighbourhood</th>\n",
       "      <th>room_type</th>\n",
       "      <th>accommodates</th>\n",
       "      <th>bathrooms</th>\n",
       "      <th>bedrooms</th>\n",
       "      <th>beds</th>\n",
       "      <th>price</th>\n",
       "    </tr>\n",
       "  </thead>\n",
       "  <tbody>\n",
       "    <tr>\n",
       "      <th>0</th>\n",
       "      <td>1.318800e+04</td>\n",
       "      <td>Riley Park</td>\n",
       "      <td>Entire home/apt</td>\n",
       "      <td>4</td>\n",
       "      <td>1.0</td>\n",
       "      <td>0.0</td>\n",
       "      <td>2.0</td>\n",
       "      <td>14</td>\n",
       "    </tr>\n",
       "    <tr>\n",
       "      <th>1</th>\n",
       "      <td>1.335800e+04</td>\n",
       "      <td>Downtown</td>\n",
       "      <td>Entire home/apt</td>\n",
       "      <td>2</td>\n",
       "      <td>1.0</td>\n",
       "      <td>1.0</td>\n",
       "      <td>1.0</td>\n",
       "      <td>20</td>\n",
       "    </tr>\n",
       "    <tr>\n",
       "      <th>2</th>\n",
       "      <td>1.349000e+04</td>\n",
       "      <td>Kensington-Cedar Cottage</td>\n",
       "      <td>Entire home/apt</td>\n",
       "      <td>2</td>\n",
       "      <td>1.0</td>\n",
       "      <td>1.0</td>\n",
       "      <td>1.0</td>\n",
       "      <td>35</td>\n",
       "    </tr>\n",
       "    <tr>\n",
       "      <th>3</th>\n",
       "      <td>1.426700e+04</td>\n",
       "      <td>Kensington-Cedar Cottage</td>\n",
       "      <td>Entire home/apt</td>\n",
       "      <td>4</td>\n",
       "      <td>1.0</td>\n",
       "      <td>1.0</td>\n",
       "      <td>2.0</td>\n",
       "      <td>35</td>\n",
       "    </tr>\n",
       "    <tr>\n",
       "      <th>4</th>\n",
       "      <td>1.625400e+04</td>\n",
       "      <td>Hastings-Sunrise</td>\n",
       "      <td>Entire home/apt</td>\n",
       "      <td>4</td>\n",
       "      <td>1.0</td>\n",
       "      <td>2.0</td>\n",
       "      <td>3.0</td>\n",
       "      <td>36</td>\n",
       "    </tr>\n",
       "    <tr>\n",
       "      <th>...</th>\n",
       "      <td>...</td>\n",
       "      <td>...</td>\n",
       "      <td>...</td>\n",
       "      <td>...</td>\n",
       "      <td>...</td>\n",
       "      <td>...</td>\n",
       "      <td>...</td>\n",
       "      <td>...</td>\n",
       "    </tr>\n",
       "    <tr>\n",
       "      <th>4981</th>\n",
       "      <td>9.970000e+17</td>\n",
       "      <td>Downtown</td>\n",
       "      <td>Entire home/apt</td>\n",
       "      <td>4</td>\n",
       "      <td>1.0</td>\n",
       "      <td>1.0</td>\n",
       "      <td>2.0</td>\n",
       "      <td>3000</td>\n",
       "    </tr>\n",
       "    <tr>\n",
       "      <th>4982</th>\n",
       "      <td>9.970000e+17</td>\n",
       "      <td>South Cambie</td>\n",
       "      <td>Entire home/apt</td>\n",
       "      <td>4</td>\n",
       "      <td>NaN</td>\n",
       "      <td>2.0</td>\n",
       "      <td>NaN</td>\n",
       "      <td>5714</td>\n",
       "    </tr>\n",
       "    <tr>\n",
       "      <th>4983</th>\n",
       "      <td>9.970000e+17</td>\n",
       "      <td>South Cambie</td>\n",
       "      <td>Private room</td>\n",
       "      <td>2</td>\n",
       "      <td>1.0</td>\n",
       "      <td>1.0</td>\n",
       "      <td>0.0</td>\n",
       "      <td>8495</td>\n",
       "    </tr>\n",
       "    <tr>\n",
       "      <th>4984</th>\n",
       "      <td>9.970000e+17</td>\n",
       "      <td>Downtown</td>\n",
       "      <td>Entire home/apt</td>\n",
       "      <td>4</td>\n",
       "      <td>NaN</td>\n",
       "      <td>2.0</td>\n",
       "      <td>NaN</td>\n",
       "      <td>9600</td>\n",
       "    </tr>\n",
       "    <tr>\n",
       "      <th>4985</th>\n",
       "      <td>9.980000e+17</td>\n",
       "      <td>Downtown Eastside</td>\n",
       "      <td>Entire home/apt</td>\n",
       "      <td>2</td>\n",
       "      <td>1.0</td>\n",
       "      <td>1.0</td>\n",
       "      <td>0.0</td>\n",
       "      <td>9999</td>\n",
       "    </tr>\n",
       "  </tbody>\n",
       "</table>\n",
       "<p>4986 rows × 8 columns</p>\n",
       "</div>"
      ],
      "text/plain": [
       "                id             neighbourhood        room_type  accommodates  \\\n",
       "0     1.318800e+04                Riley Park  Entire home/apt             4   \n",
       "1     1.335800e+04                  Downtown  Entire home/apt             2   \n",
       "2     1.349000e+04  Kensington-Cedar Cottage  Entire home/apt             2   \n",
       "3     1.426700e+04  Kensington-Cedar Cottage  Entire home/apt             4   \n",
       "4     1.625400e+04          Hastings-Sunrise  Entire home/apt             4   \n",
       "...            ...                       ...              ...           ...   \n",
       "4981  9.970000e+17                  Downtown  Entire home/apt             4   \n",
       "4982  9.970000e+17              South Cambie  Entire home/apt             4   \n",
       "4983  9.970000e+17              South Cambie     Private room             2   \n",
       "4984  9.970000e+17                  Downtown  Entire home/apt             4   \n",
       "4985  9.980000e+17         Downtown Eastside  Entire home/apt             2   \n",
       "\n",
       "      bathrooms  bedrooms  beds  price  \n",
       "0           1.0       0.0   2.0     14  \n",
       "1           1.0       1.0   1.0     20  \n",
       "2           1.0       1.0   1.0     35  \n",
       "3           1.0       1.0   2.0     35  \n",
       "4           1.0       2.0   3.0     36  \n",
       "...         ...       ...   ...    ...  \n",
       "4981        1.0       1.0   2.0   3000  \n",
       "4982        NaN       2.0   NaN   5714  \n",
       "4983        1.0       1.0   0.0   8495  \n",
       "4984        NaN       2.0   NaN   9600  \n",
       "4985        1.0       1.0   0.0   9999  \n",
       "\n",
       "[4986 rows x 8 columns]"
      ]
     },
     "execution_count": 7,
     "metadata": {},
     "output_type": "execute_result"
    }
   ],
   "source": [
    "# Load the Airbnb listings dataset from a CSV file\n",
    "airbnb = pd.read_csv(\"dataset/listings.csv\")\n",
    "airbnb"
   ]
  },
  {
   "cell_type": "code",
   "execution_count": 6,
   "id": "30f0c0cb",
   "metadata": {},
   "outputs": [
    {
     "data": {
      "text/plain": [
       "np.float64(249.16526273565984)"
      ]
     },
     "execution_count": 6,
     "metadata": {},
     "output_type": "execute_result"
    }
   ],
   "source": [
    "# Calculate and return the average price from the \"price\" column in the Airbnb dataset\n",
    "airbnb[\"price\"].mean()"
   ]
  },
  {
   "cell_type": "code",
   "execution_count": 8,
   "id": "9ff095ff",
   "metadata": {},
   "outputs": [
    {
     "data": {
      "text/plain": [
       "np.float64(222.875)"
      ]
     },
     "execution_count": 8,
     "metadata": {},
     "output_type": "execute_result"
    }
   ],
   "source": [
    "# Set the random seed to 100 for reproducibility\n",
    "np.random.seed(100)\n",
    "\n",
    "# Randomly select a sample of 40 rows from the Airbnb dataset and calculate the average price from the \"price\" column\n",
    "airbnb.sample(n=40)[\"price\"].mean()"
   ]
  },
  {
   "cell_type": "code",
   "execution_count": 18,
   "id": "a49cb1a4",
   "metadata": {},
   "outputs": [
    {
     "data": {
      "text/plain": [
       "np.float64(242.5)"
      ]
     },
     "execution_count": 18,
     "metadata": {},
     "output_type": "execute_result"
    }
   ],
   "source": [
    "# Since no random seed is set, running this multiple times will result in different mean values.\n",
    "airbnb.sample(n=40)[\"price\"].mean()"
   ]
  },
  {
   "cell_type": "code",
   "execution_count": 19,
   "id": "510c262b",
   "metadata": {},
   "outputs": [],
   "source": [
    "# Initialize an empty list to store the samples\n",
    "sample_list = []\n",
    "\n",
    "for i in range(20_000):\n",
    "    sample=airbnb.sample(n=40)\n",
    "    sample=sample.assign(replicate = i)\n",
    "    sample_list.append(sample)\n",
    "    "
   ]
  },
  {
   "cell_type": "code",
   "execution_count": 20,
   "id": "7766e930",
   "metadata": {},
   "outputs": [
    {
     "data": {
      "text/html": [
       "<div>\n",
       "<style scoped>\n",
       "    .dataframe tbody tr th:only-of-type {\n",
       "        vertical-align: middle;\n",
       "    }\n",
       "\n",
       "    .dataframe tbody tr th {\n",
       "        vertical-align: top;\n",
       "    }\n",
       "\n",
       "    .dataframe thead th {\n",
       "        text-align: right;\n",
       "    }\n",
       "</style>\n",
       "<table border=\"1\" class=\"dataframe\">\n",
       "  <thead>\n",
       "    <tr style=\"text-align: right;\">\n",
       "      <th></th>\n",
       "      <th>id</th>\n",
       "      <th>neighbourhood</th>\n",
       "      <th>room_type</th>\n",
       "      <th>accommodates</th>\n",
       "      <th>bathrooms</th>\n",
       "      <th>bedrooms</th>\n",
       "      <th>beds</th>\n",
       "      <th>price</th>\n",
       "      <th>replicate</th>\n",
       "    </tr>\n",
       "  </thead>\n",
       "  <tbody>\n",
       "    <tr>\n",
       "      <th>4947</th>\n",
       "      <td>9.920000e+17</td>\n",
       "      <td>Downtown</td>\n",
       "      <td>Entire home/apt</td>\n",
       "      <td>10</td>\n",
       "      <td>NaN</td>\n",
       "      <td>5.0</td>\n",
       "      <td>NaN</td>\n",
       "      <td>1200</td>\n",
       "      <td>0</td>\n",
       "    </tr>\n",
       "    <tr>\n",
       "      <th>3548</th>\n",
       "      <td>7.490000e+17</td>\n",
       "      <td>Hastings-Sunrise</td>\n",
       "      <td>Entire home/apt</td>\n",
       "      <td>2</td>\n",
       "      <td>1.0</td>\n",
       "      <td>1.0</td>\n",
       "      <td>1.0</td>\n",
       "      <td>268</td>\n",
       "      <td>0</td>\n",
       "    </tr>\n",
       "    <tr>\n",
       "      <th>3848</th>\n",
       "      <td>8.150000e+17</td>\n",
       "      <td>Downtown</td>\n",
       "      <td>Entire home/apt</td>\n",
       "      <td>5</td>\n",
       "      <td>2.0</td>\n",
       "      <td>3.0</td>\n",
       "      <td>3.0</td>\n",
       "      <td>300</td>\n",
       "      <td>0</td>\n",
       "    </tr>\n",
       "    <tr>\n",
       "      <th>4120</th>\n",
       "      <td>8.700000e+17</td>\n",
       "      <td>Downtown</td>\n",
       "      <td>Entire home/apt</td>\n",
       "      <td>2</td>\n",
       "      <td>1.0</td>\n",
       "      <td>1.0</td>\n",
       "      <td>1.0</td>\n",
       "      <td>348</td>\n",
       "      <td>0</td>\n",
       "    </tr>\n",
       "    <tr>\n",
       "      <th>2973</th>\n",
       "      <td>6.180000e+17</td>\n",
       "      <td>Kitsilano</td>\n",
       "      <td>Entire home/apt</td>\n",
       "      <td>5</td>\n",
       "      <td>NaN</td>\n",
       "      <td>2.0</td>\n",
       "      <td>NaN</td>\n",
       "      <td>220</td>\n",
       "      <td>0</td>\n",
       "    </tr>\n",
       "    <tr>\n",
       "      <th>...</th>\n",
       "      <td>...</td>\n",
       "      <td>...</td>\n",
       "      <td>...</td>\n",
       "      <td>...</td>\n",
       "      <td>...</td>\n",
       "      <td>...</td>\n",
       "      <td>...</td>\n",
       "      <td>...</td>\n",
       "      <td>...</td>\n",
       "    </tr>\n",
       "    <tr>\n",
       "      <th>3169</th>\n",
       "      <td>6.670000e+17</td>\n",
       "      <td>Sunset</td>\n",
       "      <td>Entire home/apt</td>\n",
       "      <td>6</td>\n",
       "      <td>NaN</td>\n",
       "      <td>3.0</td>\n",
       "      <td>NaN</td>\n",
       "      <td>236</td>\n",
       "      <td>19999</td>\n",
       "    </tr>\n",
       "    <tr>\n",
       "      <th>4159</th>\n",
       "      <td>8.760000e+17</td>\n",
       "      <td>Dunbar Southlands</td>\n",
       "      <td>Private room</td>\n",
       "      <td>2</td>\n",
       "      <td>1.0</td>\n",
       "      <td>1.0</td>\n",
       "      <td>1.0</td>\n",
       "      <td>350</td>\n",
       "      <td>19999</td>\n",
       "    </tr>\n",
       "    <tr>\n",
       "      <th>2092</th>\n",
       "      <td>4.336422e+07</td>\n",
       "      <td>Kitsilano</td>\n",
       "      <td>Entire home/apt</td>\n",
       "      <td>5</td>\n",
       "      <td>1.5</td>\n",
       "      <td>2.0</td>\n",
       "      <td>3.0</td>\n",
       "      <td>165</td>\n",
       "      <td>19999</td>\n",
       "    </tr>\n",
       "    <tr>\n",
       "      <th>37</th>\n",
       "      <td>4.641720e+05</td>\n",
       "      <td>Hastings-Sunrise</td>\n",
       "      <td>Entire home/apt</td>\n",
       "      <td>4</td>\n",
       "      <td>NaN</td>\n",
       "      <td>2.0</td>\n",
       "      <td>NaN</td>\n",
       "      <td>45</td>\n",
       "      <td>19999</td>\n",
       "    </tr>\n",
       "    <tr>\n",
       "      <th>3775</th>\n",
       "      <td>7.980000e+17</td>\n",
       "      <td>Downtown</td>\n",
       "      <td>Entire home/apt</td>\n",
       "      <td>5</td>\n",
       "      <td>2.0</td>\n",
       "      <td>2.0</td>\n",
       "      <td>3.0</td>\n",
       "      <td>295</td>\n",
       "      <td>19999</td>\n",
       "    </tr>\n",
       "  </tbody>\n",
       "</table>\n",
       "<p>800000 rows × 9 columns</p>\n",
       "</div>"
      ],
      "text/plain": [
       "                id      neighbourhood        room_type  accommodates  \\\n",
       "4947  9.920000e+17           Downtown  Entire home/apt            10   \n",
       "3548  7.490000e+17   Hastings-Sunrise  Entire home/apt             2   \n",
       "3848  8.150000e+17           Downtown  Entire home/apt             5   \n",
       "4120  8.700000e+17           Downtown  Entire home/apt             2   \n",
       "2973  6.180000e+17          Kitsilano  Entire home/apt             5   \n",
       "...            ...                ...              ...           ...   \n",
       "3169  6.670000e+17             Sunset  Entire home/apt             6   \n",
       "4159  8.760000e+17  Dunbar Southlands     Private room             2   \n",
       "2092  4.336422e+07          Kitsilano  Entire home/apt             5   \n",
       "37    4.641720e+05   Hastings-Sunrise  Entire home/apt             4   \n",
       "3775  7.980000e+17           Downtown  Entire home/apt             5   \n",
       "\n",
       "      bathrooms  bedrooms  beds  price  replicate  \n",
       "4947        NaN       5.0   NaN   1200          0  \n",
       "3548        1.0       1.0   1.0    268          0  \n",
       "3848        2.0       3.0   3.0    300          0  \n",
       "4120        1.0       1.0   1.0    348          0  \n",
       "2973        NaN       2.0   NaN    220          0  \n",
       "...         ...       ...   ...    ...        ...  \n",
       "3169        NaN       3.0   NaN    236      19999  \n",
       "4159        1.0       1.0   1.0    350      19999  \n",
       "2092        1.5       2.0   3.0    165      19999  \n",
       "37          NaN       2.0   NaN     45      19999  \n",
       "3775        2.0       2.0   3.0    295      19999  \n",
       "\n",
       "[800000 rows x 9 columns]"
      ]
     },
     "execution_count": 20,
     "metadata": {},
     "output_type": "execute_result"
    }
   ],
   "source": [
    "samples= pd.concat(sample_list)\n",
    "samples"
   ]
  },
  {
   "cell_type": "code",
   "execution_count": 22,
   "id": "1b5e34a1",
   "metadata": {},
   "outputs": [
    {
     "data": {
      "text/html": [
       "<div>\n",
       "<style scoped>\n",
       "    .dataframe tbody tr th:only-of-type {\n",
       "        vertical-align: middle;\n",
       "    }\n",
       "\n",
       "    .dataframe tbody tr th {\n",
       "        vertical-align: top;\n",
       "    }\n",
       "\n",
       "    .dataframe thead th {\n",
       "        text-align: right;\n",
       "    }\n",
       "</style>\n",
       "<table border=\"1\" class=\"dataframe\">\n",
       "  <thead>\n",
       "    <tr style=\"text-align: right;\">\n",
       "      <th></th>\n",
       "      <th>replicate</th>\n",
       "      <th>sample_mean</th>\n",
       "    </tr>\n",
       "  </thead>\n",
       "  <tbody>\n",
       "    <tr>\n",
       "      <th>0</th>\n",
       "      <td>0</td>\n",
       "      <td>303.525</td>\n",
       "    </tr>\n",
       "    <tr>\n",
       "      <th>1</th>\n",
       "      <td>1</td>\n",
       "      <td>216.775</td>\n",
       "    </tr>\n",
       "    <tr>\n",
       "      <th>2</th>\n",
       "      <td>2</td>\n",
       "      <td>200.300</td>\n",
       "    </tr>\n",
       "    <tr>\n",
       "      <th>3</th>\n",
       "      <td>3</td>\n",
       "      <td>269.600</td>\n",
       "    </tr>\n",
       "    <tr>\n",
       "      <th>4</th>\n",
       "      <td>4</td>\n",
       "      <td>247.350</td>\n",
       "    </tr>\n",
       "    <tr>\n",
       "      <th>...</th>\n",
       "      <td>...</td>\n",
       "      <td>...</td>\n",
       "    </tr>\n",
       "    <tr>\n",
       "      <th>19995</th>\n",
       "      <td>19995</td>\n",
       "      <td>251.575</td>\n",
       "    </tr>\n",
       "    <tr>\n",
       "      <th>19996</th>\n",
       "      <td>19996</td>\n",
       "      <td>186.150</td>\n",
       "    </tr>\n",
       "    <tr>\n",
       "      <th>19997</th>\n",
       "      <td>19997</td>\n",
       "      <td>304.750</td>\n",
       "    </tr>\n",
       "    <tr>\n",
       "      <th>19998</th>\n",
       "      <td>19998</td>\n",
       "      <td>288.050</td>\n",
       "    </tr>\n",
       "    <tr>\n",
       "      <th>19999</th>\n",
       "      <td>19999</td>\n",
       "      <td>249.350</td>\n",
       "    </tr>\n",
       "  </tbody>\n",
       "</table>\n",
       "<p>20000 rows × 2 columns</p>\n",
       "</div>"
      ],
      "text/plain": [
       "       replicate  sample_mean\n",
       "0              0      303.525\n",
       "1              1      216.775\n",
       "2              2      200.300\n",
       "3              3      269.600\n",
       "4              4      247.350\n",
       "...          ...          ...\n",
       "19995      19995      251.575\n",
       "19996      19996      186.150\n",
       "19997      19997      304.750\n",
       "19998      19998      288.050\n",
       "19999      19999      249.350\n",
       "\n",
       "[20000 rows x 2 columns]"
      ]
     },
     "execution_count": 22,
     "metadata": {},
     "output_type": "execute_result"
    }
   ],
   "source": [
    "sample_estimates=samples.groupby(\"replicate\")[\"price\"].mean().reset_index(name=\"sample_mean\")\n",
    "sample_estimates"
   ]
  },
  {
   "cell_type": "code",
   "execution_count": 23,
   "id": "4f90e604",
   "metadata": {},
   "outputs": [
    {
     "data": {
      "image/png": "[encoded data removed]",
      "text/plain": [
       "<Figure size 1000x600 with 1 Axes>"
      ]
     },
     "metadata": {},
     "output_type": "display_data"
    }
   ],
   "source": [
    "# Plot the histogram of the sampling distribution\n",
    "plt.figure(figsize=(10, 6))\n",
    "plt.hist(sample_estimates['sample_mean'], bins=30, edgecolor='black')\n",
    "\n",
    "\n",
    "# Add titles and labels\n",
    "plt.title('Sampling Distribution of Mean Price Listings')\n",
    "plt.xlabel('Means')\n",
    "plt.ylabel('Frequency')\n",
    "\n",
    "# Show the plot\n",
    "plt.show()\n"
   ]
  },
  {
   "cell_type": "code",
   "execution_count": 24,
   "id": "439445b8",
   "metadata": {},
   "outputs": [
    {
     "data": {
      "text/plain": [
       "np.float64(248.73100499999998)"
      ]
     },
     "execution_count": 24,
     "metadata": {},
     "output_type": "execute_result"
    }
   ],
   "source": [
    "sample_estimates[\"sample_mean\"].mean()"
   ]
  },
  {
   "cell_type": "markdown",
   "id": "b7f2377c",
   "metadata": {},
   "source": [
    "**Bootstrap**\n"
   ]
  },
  {
   "cell_type": "code",
   "execution_count": 27,
   "id": "3fa51897",
   "metadata": {},
   "outputs": [],
   "source": [
    "np.random.seed(1234)\n",
    "one_sample = airbnb.sample(n=40)\n",
    "#one_sample"
   ]
  },
  {
   "cell_type": "code",
   "execution_count": 28,
   "id": "3bafe556",
   "metadata": {},
   "outputs": [
    {
     "data": {
      "image/png": "[encoded data removed]",
      "text/plain": [
       "<Figure size 1000x600 with 1 Axes>"
      ]
     },
     "metadata": {},
     "output_type": "display_data"
    }
   ],
   "source": [
    "# Histogram of price per night (dollars) for one sample of size 40.\n",
    "plt.figure(figsize=(10, 6))\n",
    "plt.hist(one_sample['price'], bins=30, edgecolor='black', alpha=0.7)\n",
    "\n",
    "# Add titles and labels\n",
    "plt.title('Histogram of price per night (dollars) for one sample of size 40')\n",
    "plt.xlabel('Price per night')\n",
    "plt.ylabel('Frequency')\n",
    "\n",
    "# Show the plot\n",
    "plt.grid(True)\n",
    "plt.show()"
   ]
  },
  {
   "cell_type": "code",
   "execution_count": 31,
   "id": "eca4079b",
   "metadata": {},
   "outputs": [
    {
     "data": {
      "text/plain": [
       "np.float64(219.85)"
      ]
     },
     "execution_count": 31,
     "metadata": {},
     "output_type": "execute_result"
    }
   ],
   "source": [
    "one_sample[\"price\"].mean()"
   ]
  },
  {
   "cell_type": "code",
   "execution_count": 32,
   "id": "a9113646",
   "metadata": {},
   "outputs": [],
   "source": [
    "boot1= one_sample.sample(frac=1, replace=True)"
   ]
  },
  {
   "cell_type": "code",
   "execution_count": 33,
   "id": "3263c4e2",
   "metadata": {},
   "outputs": [
    {
     "data": {
      "image/png": "[encoded data removed]",
      "text/plain": [
       "<Figure size 1000x600 with 1 Axes>"
      ]
     },
     "metadata": {},
     "output_type": "display_data"
    }
   ],
   "source": [
    "# Plot the histogram of the bootstrap distribution\n",
    "plt.figure(figsize=(10, 6))\n",
    "plt.hist(boot1['price'], bins=20, edgecolor='black', alpha=0.7)\n",
    "\n",
    "# Add titles and labels\n",
    "plt.title('Bootstrap distribution')\n",
    "plt.xlabel('Price per night ($USD)')\n",
    "plt.ylabel('Frequency')\n",
    "\n",
    "# Show the plot\n",
    "plt.grid(True)\n",
    "plt.show()"
   ]
  },
  {
   "cell_type": "code",
   "execution_count": 34,
   "id": "a0df6b7e",
   "metadata": {},
   "outputs": [
    {
     "data": {
      "text/plain": [
       "np.float64(175.425)"
      ]
     },
     "execution_count": 34,
     "metadata": {},
     "output_type": "execute_result"
    }
   ],
   "source": [
    "boot1['price'].mean()"
   ]
  },
  {
   "cell_type": "code",
   "execution_count": 36,
   "id": "8600d2bc",
   "metadata": {},
   "outputs": [],
   "source": [
    "bootstrap_samples=[]\n",
    "\n",
    "for i in range(20000):\n",
    "    sample=one_sample.sample(frac=1, replace=True)\n",
    "    sample=sample.assign(replicate=i)\n",
    "    bootstrap_samples.append(sample)"
   ]
  },
  {
   "cell_type": "code",
   "execution_count": 38,
   "id": "b9f734e9",
   "metadata": {},
   "outputs": [],
   "source": [
    "boot20000 = pd.concat(bootstrap_samples)\n",
    "#boot20000"
   ]
  },
  {
   "cell_type": "code",
   "execution_count": 41,
   "id": "50f71fa2",
   "metadata": {},
   "outputs": [],
   "source": [
    "boot_means= boot20000.groupby('replicate')[\"price\"].mean().reset_index(name='mean_price')\n",
    "#boot_means"
   ]
  },
  {
   "cell_type": "code",
   "execution_count": 42,
   "id": "a0b35652",
   "metadata": {},
   "outputs": [
    {
     "data": {
      "image/png": "[encoded data removed]",
      "text/plain": [
       "<Figure size 1000x600 with 1 Axes>"
      ]
     },
     "metadata": {},
     "output_type": "display_data"
    }
   ],
   "source": [
    "# Plot the histogram of the bootstrap distribution\n",
    "plt.figure(figsize=(10, 6))\n",
    "plt.hist(boot_means['mean_price'], bins=20, edgecolor='black', alpha=0.7)\n",
    "\n",
    "# Add titles and labels\n",
    "plt.title('Distribution of the bootstrap sample means')\n",
    "plt.xlabel('Price per night ($USD)')\n",
    "plt.ylabel('Frequency')\n",
    "\n",
    "# Show the plot\n",
    "plt.grid(True)\n",
    "plt.show()"
   ]
  },
  {
   "cell_type": "code",
   "execution_count": 43,
   "id": "a030c467",
   "metadata": {},
   "outputs": [
    {
     "data": {
      "text/plain": [
       "0.025    171.248750\n",
       "0.975    276.300625\n",
       "Name: mean_price, dtype: float64"
      ]
     },
     "execution_count": 43,
     "metadata": {},
     "output_type": "execute_result"
    }
   ],
   "source": [
    "ci_bounds= boot_means[\"mean_price\"].quantile([0.025,0.975])\n",
    "ci_bounds"
   ]
  }
 ],
 "metadata": {
  "kernelspec": {
   "display_name": "dsi_participant",
   "language": "python",
   "name": "python3"
  },
  "language_info": {
   "codemirror_mode": {
    "name": "ipython",
    "version": 3
   },
   "file_extension": ".py",
   "mimetype": "text/x-python",
   "name": "python",
   "nbconvert_exporter": "python",
   "pygments_lexer": "ipython3",
   "version": "3.9.19"
  }
 },
 "nbformat": 4,
 "nbformat_minor": 5
}
